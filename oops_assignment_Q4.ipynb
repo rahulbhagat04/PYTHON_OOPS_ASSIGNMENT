{
 "cells": [
  {
   "cell_type": "code",
   "execution_count": 1,
   "id": "78b1ddc0-d1aa-4134-8fac-6d47263926e8",
   "metadata": {},
   "outputs": [],
   "source": [
    "#Q4. Why self is used in OOPs?"
   ]
  },
  {
   "cell_type": "code",
   "execution_count": 2,
   "id": "eab4dadc-3160-43dd-b6e3-7abef31f604f",
   "metadata": {},
   "outputs": [],
   "source": [
    "# self represents the instance of the class.\n",
    "# By using the “self” we can access the attributes and methods of the class in python.\n",
    "# It binds the attributes with the given arguments"
   ]
  },
  {
   "cell_type": "code",
   "execution_count": null,
   "id": "9a5ae056-698d-42d4-bdf5-5de96a6d362d",
   "metadata": {},
   "outputs": [],
   "source": []
  }
 ],
 "metadata": {
  "kernelspec": {
   "display_name": "Python 3 (ipykernel)",
   "language": "python",
   "name": "python3"
  },
  "language_info": {
   "codemirror_mode": {
    "name": "ipython",
    "version": 3
   },
   "file_extension": ".py",
   "mimetype": "text/x-python",
   "name": "python",
   "nbconvert_exporter": "python",
   "pygments_lexer": "ipython3",
   "version": "3.10.8"
  }
 },
 "nbformat": 4,
 "nbformat_minor": 5
}
