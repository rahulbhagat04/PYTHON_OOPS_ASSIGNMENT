{
 "cells": [
  {
   "cell_type": "code",
   "execution_count": 9,
   "id": "859fe23e-fee5-4223-8f9b-223e86554d51",
   "metadata": {},
   "outputs": [],
   "source": [
    "# Q2. Name the four pillars of OOPs."
   ]
  },
  {
   "cell_type": "code",
   "execution_count": 2,
   "id": "2abcd36f-51fa-4b86-9eeb-fd0646480af0",
   "metadata": {},
   "outputs": [],
   "source": [
    "# the four pillar of oops are:"
   ]
  },
  {
   "cell_type": "code",
   "execution_count": 11,
   "id": "5e850917-9b37-4650-9bb4-d2395e63b3fa",
   "metadata": {},
   "outputs": [],
   "source": [
    "# 1. polymorphism"
   ]
  },
  {
   "cell_type": "code",
   "execution_count": 10,
   "id": "091b5e85-2f5e-4dab-8b29-d2fb37be5a72",
   "metadata": {},
   "outputs": [],
   "source": [
    "# 2.inheritance"
   ]
  },
  {
   "cell_type": "code",
   "execution_count": 7,
   "id": "6430806c-aa94-4f2b-83ec-1c6573689419",
   "metadata": {},
   "outputs": [],
   "source": [
    "# 3.data encapsulation"
   ]
  },
  {
   "cell_type": "code",
   "execution_count": 6,
   "id": "17f27312-36f2-4748-9edc-b4420c3ca528",
   "metadata": {},
   "outputs": [],
   "source": [
    "# 4.data abstraction"
   ]
  },
  {
   "cell_type": "code",
   "execution_count": null,
   "id": "0d42eed9-9514-481e-8cb2-4d4720ee48c0",
   "metadata": {},
   "outputs": [],
   "source": []
  }
 ],
 "metadata": {
  "kernelspec": {
   "display_name": "Python 3 (ipykernel)",
   "language": "python",
   "name": "python3"
  },
  "language_info": {
   "codemirror_mode": {
    "name": "ipython",
    "version": 3
   },
   "file_extension": ".py",
   "mimetype": "text/x-python",
   "name": "python",
   "nbconvert_exporter": "python",
   "pygments_lexer": "ipython3",
   "version": "3.10.8"
  }
 },
 "nbformat": 4,
 "nbformat_minor": 5
}
