{
 "cells": [
  {
   "cell_type": "code",
   "execution_count": 1,
   "id": "b07922da-9a29-440e-8c2c-5c20cfb0e6fb",
   "metadata": {},
   "outputs": [],
   "source": [
    "# Q1. Explain Class and Object with respect to Object-Oriented Programming. Give a suitable example."
   ]
  },
  {
   "cell_type": "code",
   "execution_count": 3,
   "id": "2435626a-5dc3-4a37-8471-26b7c2a41258",
   "metadata": {},
   "outputs": [],
   "source": [
    "# CLASS\n",
    "#class is a blueprint/template representing a group of objects that shares common properties and relationships."
   ]
  },
  {
   "cell_type": "code",
   "execution_count": 4,
   "id": "052bd0fb-15d2-4d58-8504-3ca6d9b621f0",
   "metadata": {},
   "outputs": [],
   "source": [
    "#OBJECT\n",
    "# object ia an identiable entity with some characterstics and behaviour."
   ]
  },
  {
   "cell_type": "code",
   "execution_count": 5,
   "id": "d4eb4d7c-6acf-4e94-94e2-68425c3975d8",
   "metadata": {},
   "outputs": [],
   "source": [
    "#EXAMPLE"
   ]
  },
  {
   "cell_type": "code",
   "execution_count": 20,
   "id": "447dd222-c649-4877-974a-97670809a13f",
   "metadata": {},
   "outputs": [],
   "source": [
    "class bus:                                             # creation of class\n",
    "    def __init__(self, number , max_speed ):\n",
    "        self.number=number\n",
    "        self.max_speed=max_speed\n",
    "        \n",
    "    def print_bus_detail(self):\n",
    "        print(\"the bus number is\",self.number)\n",
    "        print(\"the max speed of bus is \", self.max_speed)"
   ]
  },
  {
   "cell_type": "code",
   "execution_count": 19,
   "id": "7209cf87-d3b6-4293-a699-d0ce042591ba",
   "metadata": {},
   "outputs": [],
   "source": [
    "obj = bus(\"WB74BE9230\" , 120)                         #creation of object of class bus"
   ]
  },
  {
   "cell_type": "code",
   "execution_count": 18,
   "id": "4fe8b61f-aad9-4f83-a050-4911d540678b",
   "metadata": {},
   "outputs": [
    {
     "name": "stdout",
     "output_type": "stream",
     "text": [
      "the bus number is WB74BE9230\n",
      "the max speed of bus is  120\n"
     ]
    }
   ],
   "source": [
    "obj.print_bus_detail()                                # accecing the class function through object"
   ]
  },
  {
   "cell_type": "code",
   "execution_count": null,
   "id": "6d6c61c4-619c-4851-9295-d888d4cddedd",
   "metadata": {},
   "outputs": [],
   "source": []
  }
 ],
 "metadata": {
  "kernelspec": {
   "display_name": "Python 3 (ipykernel)",
   "language": "python",
   "name": "python3"
  },
  "language_info": {
   "codemirror_mode": {
    "name": "ipython",
    "version": 3
   },
   "file_extension": ".py",
   "mimetype": "text/x-python",
   "name": "python",
   "nbconvert_exporter": "python",
   "pygments_lexer": "ipython3",
   "version": "3.10.8"
  }
 },
 "nbformat": 4,
 "nbformat_minor": 5
}
