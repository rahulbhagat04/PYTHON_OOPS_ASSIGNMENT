{
 "cells": [
  {
   "cell_type": "code",
   "execution_count": 1,
   "id": "827ae504-4597-48dc-b624-b929dcf8b159",
   "metadata": {},
   "outputs": [],
   "source": [
    "#Q5. What is inheritance? Give an example for each type of inheritance."
   ]
  },
  {
   "cell_type": "code",
   "execution_count": 2,
   "id": "a203ce40-0190-4482-b6a5-64043d565104",
   "metadata": {},
   "outputs": [],
   "source": [
    "# inheritence is the capability of one class to inherit capabilities /properties from another class"
   ]
  },
  {
   "cell_type": "code",
   "execution_count": 42,
   "id": "e7bdb465-7696-4805-a7e6-166adf96ebb7",
   "metadata": {},
   "outputs": [],
   "source": [
    "# there are four type of inheritance\n",
    "# 1. single inheritance\n",
    "# 2. multiple inheritance\n",
    "# 3. multi-level inheritance\n",
    "# 4. Hierarchical Inheritance "
   ]
  },
  {
   "cell_type": "code",
   "execution_count": 4,
   "id": "94d52de2-7947-44ce-ac90-48ac23139d54",
   "metadata": {},
   "outputs": [],
   "source": [
    "# 1. single inheritance"
   ]
  },
  {
   "cell_type": "code",
   "execution_count": 5,
   "id": "bf0f9e65-1580-47e7-857c-4efc4b9b300d",
   "metadata": {},
   "outputs": [],
   "source": [
    "class Parent:\n",
    "    def func1(self):\n",
    "        print(\"This function is in parent class.\")"
   ]
  },
  {
   "cell_type": "code",
   "execution_count": 6,
   "id": "bd783823-050d-4247-9609-2fe1ece7025d",
   "metadata": {},
   "outputs": [],
   "source": [
    "class Child(Parent):\n",
    "    def func2(self):\n",
    "        print(\"This function is in child class.\")"
   ]
  },
  {
   "cell_type": "code",
   "execution_count": 7,
   "id": "4c78b55d-ccd0-4154-bbce-23318be6f47d",
   "metadata": {},
   "outputs": [],
   "source": [
    "object = Child()"
   ]
  },
  {
   "cell_type": "code",
   "execution_count": 8,
   "id": "7aa2a48a-b4e9-46be-b97e-aff4026df8b8",
   "metadata": {},
   "outputs": [
    {
     "name": "stdout",
     "output_type": "stream",
     "text": [
      "This function is in parent class.\n"
     ]
    }
   ],
   "source": [
    "object.func1()"
   ]
  },
  {
   "cell_type": "code",
   "execution_count": 9,
   "id": "87aeda33-795e-4720-b609-8dae9692d138",
   "metadata": {},
   "outputs": [
    {
     "name": "stdout",
     "output_type": "stream",
     "text": [
      "This function is in child class.\n"
     ]
    }
   ],
   "source": [
    "object.func2()"
   ]
  },
  {
   "cell_type": "code",
   "execution_count": 10,
   "id": "6b83643a-fad4-4d4c-ba05-34cef574f975",
   "metadata": {},
   "outputs": [],
   "source": [
    "# 2. multiple inheritance"
   ]
  },
  {
   "cell_type": "code",
   "execution_count": 11,
   "id": "59cb1daf-c921-474f-b4f3-4b360a0252c2",
   "metadata": {},
   "outputs": [],
   "source": [
    "class Mother:\n",
    "    mothername = \"\"\n",
    " \n",
    "    def mother(self):\n",
    "        print(self.mothername)"
   ]
  },
  {
   "cell_type": "code",
   "execution_count": 12,
   "id": "4fba3ec3-42ec-41ee-ac20-4a25d1c80e5d",
   "metadata": {},
   "outputs": [],
   "source": [
    "class Father:\n",
    "    fathername = \"\"\n",
    " \n",
    "    def father(self):\n",
    "        print(self.fathername)"
   ]
  },
  {
   "cell_type": "code",
   "execution_count": 13,
   "id": "f8959791-e023-48ec-81b6-dc1bf69c0621",
   "metadata": {},
   "outputs": [],
   "source": [
    "class Son(Mother, Father):\n",
    "    def parents(self):\n",
    "        print(\"Father :\", self.fathername)\n",
    "        print(\"Mother :\", self.mothername)"
   ]
  },
  {
   "cell_type": "code",
   "execution_count": 14,
   "id": "0b8c54e1-0716-41a9-a44c-f3f09d4357f2",
   "metadata": {},
   "outputs": [],
   "source": [
    "s1 = Son()"
   ]
  },
  {
   "cell_type": "code",
   "execution_count": 15,
   "id": "c7b4f770-b7b9-4f4d-81ef-4fc1f10d0fff",
   "metadata": {},
   "outputs": [],
   "source": [
    "s1.fathername = \"RAM\""
   ]
  },
  {
   "cell_type": "code",
   "execution_count": 16,
   "id": "2f499de3-13fd-43e0-8876-105492269f6e",
   "metadata": {},
   "outputs": [],
   "source": [
    "s1.mothername = \"SITA\""
   ]
  },
  {
   "cell_type": "code",
   "execution_count": 17,
   "id": "553ebc6f-d339-4afe-af33-300a804d3076",
   "metadata": {},
   "outputs": [
    {
     "name": "stdout",
     "output_type": "stream",
     "text": [
      "Father : RAM\n",
      "Mother : SITA\n"
     ]
    }
   ],
   "source": [
    "s1.parents()"
   ]
  },
  {
   "cell_type": "code",
   "execution_count": 28,
   "id": "5ad546f9-1e8d-4056-a7e3-91d2a6316a7a",
   "metadata": {},
   "outputs": [],
   "source": [
    "# 3. multi-level inheritance"
   ]
  },
  {
   "cell_type": "code",
   "execution_count": 18,
   "id": "b489a762-93dd-4687-929f-f778974587a4",
   "metadata": {},
   "outputs": [],
   "source": [
    "class Grandfather:\n",
    " \n",
    "    def __init__(self, grandfathername):\n",
    "        self.grandfathername = grandfathername"
   ]
  },
  {
   "cell_type": "code",
   "execution_count": 19,
   "id": "a48ac6ee-89a2-482f-ba36-0040f47f52ee",
   "metadata": {},
   "outputs": [],
   "source": [
    "class Father(Grandfather):\n",
    "    def __init__(self, fathername, grandfathername):\n",
    "        self.fathername = fathername\n",
    " \n",
    "        Grandfather.__init__(self, grandfathername)"
   ]
  },
  {
   "cell_type": "code",
   "execution_count": 23,
   "id": "f2e6a3bc-6bd9-47ec-9868-fca3af4d61eb",
   "metadata": {},
   "outputs": [],
   "source": [
    "class Son(Father):\n",
    "    def __init__(self, sonname, fathername, grandfathername):\n",
    "        self.sonname = sonname\n",
    " \n",
    "        Father.__init__(self, fathername, grandfathername)\n",
    "    \n",
    "    def print_name(self):\n",
    "        print('Grandfather name :', self.grandfathername)\n",
    "        print(\"Father name :\", self.fathername)\n",
    "        print(\"Son name :\", self.sonname)"
   ]
  },
  {
   "cell_type": "code",
   "execution_count": 24,
   "id": "b4f334d1-b6b9-4962-a034-5cc598add20a",
   "metadata": {},
   "outputs": [],
   "source": [
    "s1 = Son('Prince', 'Rampal', 'Lal mani')"
   ]
  },
  {
   "cell_type": "code",
   "execution_count": 25,
   "id": "99a3f7fd-7f28-4c7d-9131-3af91c383bb0",
   "metadata": {},
   "outputs": [
    {
     "name": "stdout",
     "output_type": "stream",
     "text": [
      "Lal mani\n"
     ]
    }
   ],
   "source": [
    "print(s1.grandfathername)"
   ]
  },
  {
   "cell_type": "code",
   "execution_count": 26,
   "id": "11cf17b1-bacf-40de-8acf-40f2546a20dc",
   "metadata": {},
   "outputs": [
    {
     "name": "stdout",
     "output_type": "stream",
     "text": [
      "Grandfather name : Lal mani\n",
      "Father name : Rampal\n",
      "Son name : Prince\n"
     ]
    }
   ],
   "source": [
    "s1.print_name()"
   ]
  },
  {
   "cell_type": "code",
   "execution_count": 41,
   "id": "7e0610de-3bea-49f3-a354-a8f495b379f9",
   "metadata": {},
   "outputs": [],
   "source": [
    "# 4. Hierarchical Inheritance"
   ]
  },
  {
   "cell_type": "code",
   "execution_count": 30,
   "id": "bde2f864-15f0-46b2-8ae4-b878040d9a2e",
   "metadata": {},
   "outputs": [],
   "source": [
    "class Parent:\n",
    "    def func1(self):\n",
    "        print(\"This function is in parent class.\")"
   ]
  },
  {
   "cell_type": "code",
   "execution_count": 33,
   "id": "7f17eab1-fd61-4dd2-ac58-59a95f5fa733",
   "metadata": {},
   "outputs": [],
   "source": [
    "class Child1(Parent):\n",
    "    def func2(self):\n",
    "        print(\"This function is in child 1.\")"
   ]
  },
  {
   "cell_type": "code",
   "execution_count": 34,
   "id": "38646a16-b890-4ec3-ba1d-9e80910679e1",
   "metadata": {},
   "outputs": [],
   "source": [
    "class Child2(Parent):\n",
    "    def func3(self):\n",
    "        print(\"This function is in child 2.\")"
   ]
  },
  {
   "cell_type": "code",
   "execution_count": 35,
   "id": "82b7fb65-af7d-4011-b618-f293794ff10a",
   "metadata": {},
   "outputs": [],
   "source": [
    "object1 = Child1()"
   ]
  },
  {
   "cell_type": "code",
   "execution_count": 36,
   "id": "f44970ac-2d43-4c4c-96d6-fc5ca35368d5",
   "metadata": {},
   "outputs": [],
   "source": [
    "object2 = Child2()"
   ]
  },
  {
   "cell_type": "code",
   "execution_count": 37,
   "id": "a5fe5540-2340-4252-b898-ebe095707f95",
   "metadata": {},
   "outputs": [
    {
     "name": "stdout",
     "output_type": "stream",
     "text": [
      "This function is in parent class.\n"
     ]
    }
   ],
   "source": [
    "object1.func1()"
   ]
  },
  {
   "cell_type": "code",
   "execution_count": 38,
   "id": "a01594ac-109d-4dbe-a718-c04ca43f7d9e",
   "metadata": {},
   "outputs": [
    {
     "name": "stdout",
     "output_type": "stream",
     "text": [
      "This function is in child 1.\n"
     ]
    }
   ],
   "source": [
    "object1.func2()"
   ]
  },
  {
   "cell_type": "code",
   "execution_count": 39,
   "id": "ee0a5806-9de9-4a3d-8d16-568e443aa826",
   "metadata": {},
   "outputs": [
    {
     "name": "stdout",
     "output_type": "stream",
     "text": [
      "This function is in parent class.\n"
     ]
    }
   ],
   "source": [
    "object2.func1()"
   ]
  },
  {
   "cell_type": "code",
   "execution_count": 40,
   "id": "d4c66134-a365-48d6-a3a2-2f993867ee4b",
   "metadata": {},
   "outputs": [
    {
     "name": "stdout",
     "output_type": "stream",
     "text": [
      "This function is in child 2.\n"
     ]
    }
   ],
   "source": [
    "object2.func3()"
   ]
  },
  {
   "cell_type": "code",
   "execution_count": null,
   "id": "8bb3366e-23ca-48a7-b49c-aac90ceabc13",
   "metadata": {},
   "outputs": [],
   "source": []
  }
 ],
 "metadata": {
  "kernelspec": {
   "display_name": "Python 3 (ipykernel)",
   "language": "python",
   "name": "python3"
  },
  "language_info": {
   "codemirror_mode": {
    "name": "ipython",
    "version": 3
   },
   "file_extension": ".py",
   "mimetype": "text/x-python",
   "name": "python",
   "nbconvert_exporter": "python",
   "pygments_lexer": "ipython3",
   "version": "3.10.8"
  }
 },
 "nbformat": 4,
 "nbformat_minor": 5
}
