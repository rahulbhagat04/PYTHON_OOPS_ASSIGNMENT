{
 "cells": [
  {
   "cell_type": "code",
   "execution_count": 1,
   "id": "4768d711-7a4a-43d4-aca8-628ddbf40237",
   "metadata": {},
   "outputs": [],
   "source": [
    "# Q3. Explain why the __init__() function is used. Give a suitable example."
   ]
  },
  {
   "cell_type": "code",
   "execution_count": 2,
   "id": "415eed43-3070-469b-b039-beb2be1afe6d",
   "metadata": {},
   "outputs": [],
   "source": [
    "# __init__ is a special python method that runs whenever a new object is created. \n",
    "# These types of functions are used to initialize the attributes of that class."
   ]
  },
  {
   "cell_type": "code",
   "execution_count": 3,
   "id": "b508eddf-961b-4a5e-9100-bcbe399e7c25",
   "metadata": {},
   "outputs": [],
   "source": [
    "class bus:                                             # creation of class\n",
    "    def __init__(self, number , max_speed ):           # __init_ function\n",
    "        self.number=number\n",
    "        self.max_speed=max_speed\n",
    "        \n",
    "    def print_bus_detail(self):\n",
    "        print(\"the bus number is\",self.number)\n",
    "        print(\"the max speed of bus is \", self.max_speed)"
   ]
  },
  {
   "cell_type": "code",
   "execution_count": 4,
   "id": "0a6e244d-e1ea-4764-945b-65e5fa8c59f1",
   "metadata": {},
   "outputs": [],
   "source": [
    "obj = bus(\"WB74BE9230\" , 120)       "
   ]
  },
  {
   "cell_type": "code",
   "execution_count": 5,
   "id": "7ab1b9f4-4fe5-49c3-9151-4d0512ea2551",
   "metadata": {},
   "outputs": [
    {
     "name": "stdout",
     "output_type": "stream",
     "text": [
      "the bus number is WB74BE9230\n",
      "the max speed of bus is  120\n"
     ]
    }
   ],
   "source": [
    "obj.print_bus_detail()      "
   ]
  },
  {
   "cell_type": "code",
   "execution_count": null,
   "id": "ff07150f-0a62-40af-813f-1edc123be055",
   "metadata": {},
   "outputs": [],
   "source": []
  }
 ],
 "metadata": {
  "kernelspec": {
   "display_name": "Python 3 (ipykernel)",
   "language": "python",
   "name": "python3"
  },
  "language_info": {
   "codemirror_mode": {
    "name": "ipython",
    "version": 3
   },
   "file_extension": ".py",
   "mimetype": "text/x-python",
   "name": "python",
   "nbconvert_exporter": "python",
   "pygments_lexer": "ipython3",
   "version": "3.10.8"
  }
 },
 "nbformat": 4,
 "nbformat_minor": 5
}
